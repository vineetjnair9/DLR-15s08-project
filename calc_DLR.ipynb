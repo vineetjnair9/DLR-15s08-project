{
 "cells": [
  {
   "cell_type": "code",
   "execution_count": 1,
   "metadata": {},
   "outputs": [],
   "source": [
    "from powersimdata.input.grid import Grid\n",
    "from prereise.gather.winddata.rap import rap, helpers # impute\n",
    "\n",
    "import pandas as pd\n",
    "from matplotlib import pyplot\n",
    "import numpy as np\n",
    "import utm\n",
    "import math\n",
    "import pickle\n",
    "\n",
    "from scipy.spatial.distance import cdist"
   ]
  },
  {
   "cell_type": "markdown",
   "metadata": {},
   "source": [
    "Wind Farms in Network + Branches/lines & buses"
   ]
  },
  {
   "cell_type": "code",
   "execution_count": 2,
   "metadata": {},
   "outputs": [
    {
     "name": "stdout",
     "output_type": "stream",
     "text": [
      "Reading bus.csv\n",
      "Reading plant.csv\n",
      "Reading gencost.csv\n",
      "Reading branch.csv\n",
      "Reading dcline.csv\n",
      "Reading sub.csv\n",
      "Reading bus2sub.csv\n",
      "Reading zone.csv\n"
     ]
    }
   ],
   "source": [
    "grid = Grid([\"Texas\"])"
   ]
  },
  {
   "cell_type": "code",
   "execution_count": 3,
   "metadata": {},
   "outputs": [],
   "source": [
    "buses = grid.bus"
   ]
  },
  {
   "cell_type": "code",
   "execution_count": 4,
   "metadata": {},
   "outputs": [],
   "source": [
    "#  X and Y coordinates of buses \n",
    "result = utm.from_latlon(buses.lat.to_numpy(),buses.lon.to_numpy())\n",
    "buses['X'], buses['Y'] = result[0], result[1]"
   ]
  },
  {
   "cell_type": "code",
   "execution_count": 5,
   "metadata": {},
   "outputs": [
    {
     "data": {
      "text/plain": "         type     Pd    Qd  Gs   Bs  zone_id        Vm       Va  baseKV  \\\nbus_id                                                                    \n3001001     1  20.78  5.89   0  0.0      301  0.998372 -22.3462   115.0   \n3001002     1  15.41  4.37   0  0.0      301  1.022910 -17.8585   115.0   \n3001003     1   0.00  0.00   0  0.0      301  1.014100 -17.5032   115.0   \n3001004     2   0.00  0.00   0  0.0      301  1.020050 -19.3247   230.0   \n3001005     1   0.00  0.00   0  0.0      301  1.012380 -15.9276   115.0   \n\n         loss_zone  ...  Vmin  lam_P  lam_Q  mu_Vmax  mu_Vmin  interconnect  \\\nbus_id              ...                                                       \n3001001          9  ...   0.9    0.0      0        0        0         Texas   \n3001002          9  ...   0.9    0.0      0        0        0         Texas   \n3001003          9  ...   0.9    0.0      0        0        0         Texas   \n3001004          9  ...   0.9    0.0      0        0        0         Texas   \n3001005          9  ...   0.9    0.0      0        0        0         Texas   \n\n             lat      lon              X             Y  \nbus_id                                                  \n3001001  31.9067 -102.262  758924.088679  3.533366e+06  \n3001002  29.8880 -104.519  546443.618177  3.306472e+06  \n3001003  32.9264 -101.648  813463.290141  3.648115e+06  \n3001004  32.9264 -101.648  813463.290141  3.648115e+06  \n3001005  32.2075 -101.388  840500.219088  3.569161e+06  \n\n[5 rows x 21 columns]",
      "text/html": "<div>\n<style scoped>\n    .dataframe tbody tr th:only-of-type {\n        vertical-align: middle;\n    }\n\n    .dataframe tbody tr th {\n        vertical-align: top;\n    }\n\n    .dataframe thead th {\n        text-align: right;\n    }\n</style>\n<table border=\"1\" class=\"dataframe\">\n  <thead>\n    <tr style=\"text-align: right;\">\n      <th></th>\n      <th>type</th>\n      <th>Pd</th>\n      <th>Qd</th>\n      <th>Gs</th>\n      <th>Bs</th>\n      <th>zone_id</th>\n      <th>Vm</th>\n      <th>Va</th>\n      <th>baseKV</th>\n      <th>loss_zone</th>\n      <th>...</th>\n      <th>Vmin</th>\n      <th>lam_P</th>\n      <th>lam_Q</th>\n      <th>mu_Vmax</th>\n      <th>mu_Vmin</th>\n      <th>interconnect</th>\n      <th>lat</th>\n      <th>lon</th>\n      <th>X</th>\n      <th>Y</th>\n    </tr>\n    <tr>\n      <th>bus_id</th>\n      <th></th>\n      <th></th>\n      <th></th>\n      <th></th>\n      <th></th>\n      <th></th>\n      <th></th>\n      <th></th>\n      <th></th>\n      <th></th>\n      <th></th>\n      <th></th>\n      <th></th>\n      <th></th>\n      <th></th>\n      <th></th>\n      <th></th>\n      <th></th>\n      <th></th>\n      <th></th>\n      <th></th>\n    </tr>\n  </thead>\n  <tbody>\n    <tr>\n      <th>3001001</th>\n      <td>1</td>\n      <td>20.78</td>\n      <td>5.89</td>\n      <td>0</td>\n      <td>0.0</td>\n      <td>301</td>\n      <td>0.998372</td>\n      <td>-22.3462</td>\n      <td>115.0</td>\n      <td>9</td>\n      <td>...</td>\n      <td>0.9</td>\n      <td>0.0</td>\n      <td>0</td>\n      <td>0</td>\n      <td>0</td>\n      <td>Texas</td>\n      <td>31.9067</td>\n      <td>-102.262</td>\n      <td>758924.088679</td>\n      <td>3.533366e+06</td>\n    </tr>\n    <tr>\n      <th>3001002</th>\n      <td>1</td>\n      <td>15.41</td>\n      <td>4.37</td>\n      <td>0</td>\n      <td>0.0</td>\n      <td>301</td>\n      <td>1.022910</td>\n      <td>-17.8585</td>\n      <td>115.0</td>\n      <td>9</td>\n      <td>...</td>\n      <td>0.9</td>\n      <td>0.0</td>\n      <td>0</td>\n      <td>0</td>\n      <td>0</td>\n      <td>Texas</td>\n      <td>29.8880</td>\n      <td>-104.519</td>\n      <td>546443.618177</td>\n      <td>3.306472e+06</td>\n    </tr>\n    <tr>\n      <th>3001003</th>\n      <td>1</td>\n      <td>0.00</td>\n      <td>0.00</td>\n      <td>0</td>\n      <td>0.0</td>\n      <td>301</td>\n      <td>1.014100</td>\n      <td>-17.5032</td>\n      <td>115.0</td>\n      <td>9</td>\n      <td>...</td>\n      <td>0.9</td>\n      <td>0.0</td>\n      <td>0</td>\n      <td>0</td>\n      <td>0</td>\n      <td>Texas</td>\n      <td>32.9264</td>\n      <td>-101.648</td>\n      <td>813463.290141</td>\n      <td>3.648115e+06</td>\n    </tr>\n    <tr>\n      <th>3001004</th>\n      <td>2</td>\n      <td>0.00</td>\n      <td>0.00</td>\n      <td>0</td>\n      <td>0.0</td>\n      <td>301</td>\n      <td>1.020050</td>\n      <td>-19.3247</td>\n      <td>230.0</td>\n      <td>9</td>\n      <td>...</td>\n      <td>0.9</td>\n      <td>0.0</td>\n      <td>0</td>\n      <td>0</td>\n      <td>0</td>\n      <td>Texas</td>\n      <td>32.9264</td>\n      <td>-101.648</td>\n      <td>813463.290141</td>\n      <td>3.648115e+06</td>\n    </tr>\n    <tr>\n      <th>3001005</th>\n      <td>1</td>\n      <td>0.00</td>\n      <td>0.00</td>\n      <td>0</td>\n      <td>0.0</td>\n      <td>301</td>\n      <td>1.012380</td>\n      <td>-15.9276</td>\n      <td>115.0</td>\n      <td>9</td>\n      <td>...</td>\n      <td>0.9</td>\n      <td>0.0</td>\n      <td>0</td>\n      <td>0</td>\n      <td>0</td>\n      <td>Texas</td>\n      <td>32.2075</td>\n      <td>-101.388</td>\n      <td>840500.219088</td>\n      <td>3.569161e+06</td>\n    </tr>\n  </tbody>\n</table>\n<p>5 rows × 21 columns</p>\n</div>"
     },
     "execution_count": 5,
     "metadata": {},
     "output_type": "execute_result"
    }
   ],
   "source": [
    "buses.head()"
   ]
  },
  {
   "cell_type": "code",
   "execution_count": 6,
   "metadata": {},
   "outputs": [],
   "source": [
    "branches = grid.branch"
   ]
  },
  {
   "cell_type": "code",
   "execution_count": 7,
   "metadata": {},
   "outputs": [
    {
     "data": {
      "text/plain": "Index(['from_bus_id', 'to_bus_id', 'r', 'x', 'b', 'rateA', 'rateB', 'rateC',\n       'ratio', 'angle', 'status', 'angmin', 'angmax', 'Pf', 'Qf', 'Pt', 'Qt',\n       'mu_Sf', 'mu_St', 'mu_angmin', 'mu_angmax', 'branch_device_type',\n       'interconnect', 'from_zone_id', 'to_zone_id', 'from_zone_name',\n       'to_zone_name', 'from_lat', 'from_lon', 'to_lat', 'to_lon'],\n      dtype='object')"
     },
     "execution_count": 7,
     "metadata": {},
     "output_type": "execute_result"
    }
   ],
   "source": [
    "branches.columns"
   ]
  },
  {
   "cell_type": "code",
   "execution_count": 8,
   "metadata": {},
   "outputs": [
    {
     "data": {
      "text/plain": "(3206, 31)"
     },
     "execution_count": 8,
     "metadata": {},
     "output_type": "execute_result"
    }
   ],
   "source": [
    "branches.shape"
   ]
  },
  {
   "cell_type": "code",
   "execution_count": 9,
   "metadata": {},
   "outputs": [],
   "source": [
    "# Assign start and end X and Y coordinates\n",
    "from_result = utm.from_latlon(branches.from_lat.to_numpy(),branches.from_lon.to_numpy())\n",
    "branches['fromX'], branches['fromY'] = from_result[0], from_result[1]\n",
    "\n",
    "to_result = utm.from_latlon(branches.to_lat.to_numpy(),branches.to_lon.to_numpy())\n",
    "branches['toX'], branches['toY'] = to_result[0], to_result[1]\n"
   ]
  },
  {
   "cell_type": "code",
   "execution_count": 10,
   "metadata": {},
   "outputs": [
    {
     "data": {
      "text/plain": "           from_bus_id  to_bus_id        r        x        b  rateA  rateB  \\\nbranch_id                                                                    \n100915         3001001    3001064  0.00524  0.03580  0.00609  221.0    0.0   \n100916         3001001    3001064  0.00524  0.03580  0.00609  221.0    0.0   \n100917         3001001    3001071  0.00435  0.02808  0.00536  221.0    0.0   \n100918         3001001    3001071  0.00435  0.02808  0.00536  221.0    0.0   \n100919         3001002    3001007  0.07776  0.46693  0.06336   98.0    0.0   \n\n           rateC  ratio  angle  ...  from_zone_name  to_zone_name  from_lat  \\\nbranch_id                       ...                                           \n100915       0.0    0.0    0.0  ...        Far West      Far West   31.9067   \n100916       0.0    0.0    0.0  ...        Far West      Far West   31.9067   \n100917       0.0    0.0    0.0  ...        Far West      Far West   31.9067   \n100918       0.0    0.0    0.0  ...        Far West      Far West   31.9067   \n100919       0.0    0.0    0.0  ...        Far West      Far West   29.8880   \n\n           from_lon   to_lat   to_lon          fromX         fromY  \\\nbranch_id                                                            \n100915     -102.262  32.0011 -102.312  758924.088679  3.533366e+06   \n100916     -102.262  32.0011 -102.312  758924.088679  3.533366e+06   \n100917     -102.262  31.8403 -102.326  758924.088679  3.533366e+06   \n100918     -102.262  31.8403 -102.326  758924.088679  3.533366e+06   \n100919     -104.519  31.0935 -104.625  546443.618177  3.306472e+06   \n\n                     toX           toY  \nbranch_id                               \n100915     753934.073875  3.543716e+06  \n100916     753934.073875  3.543716e+06  \n100917     753051.428019  3.525851e+06  \n100918     753051.428019  3.525851e+06  \n100919     535764.915208  3.440025e+06  \n\n[5 rows x 35 columns]",
      "text/html": "<div>\n<style scoped>\n    .dataframe tbody tr th:only-of-type {\n        vertical-align: middle;\n    }\n\n    .dataframe tbody tr th {\n        vertical-align: top;\n    }\n\n    .dataframe thead th {\n        text-align: right;\n    }\n</style>\n<table border=\"1\" class=\"dataframe\">\n  <thead>\n    <tr style=\"text-align: right;\">\n      <th></th>\n      <th>from_bus_id</th>\n      <th>to_bus_id</th>\n      <th>r</th>\n      <th>x</th>\n      <th>b</th>\n      <th>rateA</th>\n      <th>rateB</th>\n      <th>rateC</th>\n      <th>ratio</th>\n      <th>angle</th>\n      <th>...</th>\n      <th>from_zone_name</th>\n      <th>to_zone_name</th>\n      <th>from_lat</th>\n      <th>from_lon</th>\n      <th>to_lat</th>\n      <th>to_lon</th>\n      <th>fromX</th>\n      <th>fromY</th>\n      <th>toX</th>\n      <th>toY</th>\n    </tr>\n    <tr>\n      <th>branch_id</th>\n      <th></th>\n      <th></th>\n      <th></th>\n      <th></th>\n      <th></th>\n      <th></th>\n      <th></th>\n      <th></th>\n      <th></th>\n      <th></th>\n      <th></th>\n      <th></th>\n      <th></th>\n      <th></th>\n      <th></th>\n      <th></th>\n      <th></th>\n      <th></th>\n      <th></th>\n      <th></th>\n      <th></th>\n    </tr>\n  </thead>\n  <tbody>\n    <tr>\n      <th>100915</th>\n      <td>3001001</td>\n      <td>3001064</td>\n      <td>0.00524</td>\n      <td>0.03580</td>\n      <td>0.00609</td>\n      <td>221.0</td>\n      <td>0.0</td>\n      <td>0.0</td>\n      <td>0.0</td>\n      <td>0.0</td>\n      <td>...</td>\n      <td>Far West</td>\n      <td>Far West</td>\n      <td>31.9067</td>\n      <td>-102.262</td>\n      <td>32.0011</td>\n      <td>-102.312</td>\n      <td>758924.088679</td>\n      <td>3.533366e+06</td>\n      <td>753934.073875</td>\n      <td>3.543716e+06</td>\n    </tr>\n    <tr>\n      <th>100916</th>\n      <td>3001001</td>\n      <td>3001064</td>\n      <td>0.00524</td>\n      <td>0.03580</td>\n      <td>0.00609</td>\n      <td>221.0</td>\n      <td>0.0</td>\n      <td>0.0</td>\n      <td>0.0</td>\n      <td>0.0</td>\n      <td>...</td>\n      <td>Far West</td>\n      <td>Far West</td>\n      <td>31.9067</td>\n      <td>-102.262</td>\n      <td>32.0011</td>\n      <td>-102.312</td>\n      <td>758924.088679</td>\n      <td>3.533366e+06</td>\n      <td>753934.073875</td>\n      <td>3.543716e+06</td>\n    </tr>\n    <tr>\n      <th>100917</th>\n      <td>3001001</td>\n      <td>3001071</td>\n      <td>0.00435</td>\n      <td>0.02808</td>\n      <td>0.00536</td>\n      <td>221.0</td>\n      <td>0.0</td>\n      <td>0.0</td>\n      <td>0.0</td>\n      <td>0.0</td>\n      <td>...</td>\n      <td>Far West</td>\n      <td>Far West</td>\n      <td>31.9067</td>\n      <td>-102.262</td>\n      <td>31.8403</td>\n      <td>-102.326</td>\n      <td>758924.088679</td>\n      <td>3.533366e+06</td>\n      <td>753051.428019</td>\n      <td>3.525851e+06</td>\n    </tr>\n    <tr>\n      <th>100918</th>\n      <td>3001001</td>\n      <td>3001071</td>\n      <td>0.00435</td>\n      <td>0.02808</td>\n      <td>0.00536</td>\n      <td>221.0</td>\n      <td>0.0</td>\n      <td>0.0</td>\n      <td>0.0</td>\n      <td>0.0</td>\n      <td>...</td>\n      <td>Far West</td>\n      <td>Far West</td>\n      <td>31.9067</td>\n      <td>-102.262</td>\n      <td>31.8403</td>\n      <td>-102.326</td>\n      <td>758924.088679</td>\n      <td>3.533366e+06</td>\n      <td>753051.428019</td>\n      <td>3.525851e+06</td>\n    </tr>\n    <tr>\n      <th>100919</th>\n      <td>3001002</td>\n      <td>3001007</td>\n      <td>0.07776</td>\n      <td>0.46693</td>\n      <td>0.06336</td>\n      <td>98.0</td>\n      <td>0.0</td>\n      <td>0.0</td>\n      <td>0.0</td>\n      <td>0.0</td>\n      <td>...</td>\n      <td>Far West</td>\n      <td>Far West</td>\n      <td>29.8880</td>\n      <td>-104.519</td>\n      <td>31.0935</td>\n      <td>-104.625</td>\n      <td>546443.618177</td>\n      <td>3.306472e+06</td>\n      <td>535764.915208</td>\n      <td>3.440025e+06</td>\n    </tr>\n  </tbody>\n</table>\n<p>5 rows × 35 columns</p>\n</div>"
     },
     "execution_count": 10,
     "metadata": {},
     "output_type": "execute_result"
    }
   ],
   "source": [
    "branches.head()"
   ]
  },
  {
   "cell_type": "code",
   "execution_count": 11,
   "metadata": {},
   "outputs": [],
   "source": [
    "# Merge lists of x and y coordinates into list of coordinate pair tuples\n",
    "def merge(list1, list2):\n",
    "    return list(map(lambda x, y:(x,y), list1, list2))\n",
    "\n",
    "def sample_points(x1,y1,x2,y2,d):\n",
    "    # Start: (x1,y1)\n",
    "    # End: (x2,y2)\n",
    "    # d: step size\n",
    "\n",
    "    total_dist = math.sqrt((y2-y1)**2 + (x2-x1)**2)\n",
    "    num_points = int(total_dist//d)\n",
    "   \n",
    "    # Handle cases with vertical (slope = inf) or horizontal (slope = 0)\n",
    "    eps = 0.1\n",
    "    if abs(y1 - y2) < eps: # horizontal\n",
    "        x_vals = np.linspace(start=x1,stop=x2,num=num_points)\n",
    "        y_vals = np.ones(num_points)*y1\n",
    "    elif abs(x1 - x2) < eps: # vertical\n",
    "        x_vals = np.ones(num_points)*x1\n",
    "        y_vals = np.linspace(start=y1,stop=y2,num=num_points)\n",
    "    else:\n",
    "        slope = (y2 - y1)/(x2 - x1)\n",
    "        dx = d/math.sqrt(1+slope**2)\n",
    "        dy = slope*dx\n",
    "\n",
    "        x_vals = np.zeros(num_points)\n",
    "        y_vals = np.zeros(num_points)\n",
    "\n",
    "        # Start point\n",
    "        x_vals[0] = x1\n",
    "        y_vals[0] = y1 \n",
    "\n",
    "        # End point\n",
    "        x_vals[num_points-1] = x2\n",
    "        y_vals[num_points-1] = y2\n",
    "\n",
    "        for i in range(1,num_points-1): \n",
    "            x_vals[i] = x_vals[i-1] + dx\n",
    "            y_vals[i] = y_vals[i-1] + dy\n",
    "\n",
    "    return merge(x_vals,y_vals)"
   ]
  },
  {
   "cell_type": "code",
   "execution_count": 12,
   "metadata": {},
   "outputs": [],
   "source": [
    "# Matching sampled (x,y) point along branch to nearest available weather datapoint\n",
    "def closest_point(point,weather_points):\n",
    "    min_index = cdist([point],weather_points).argmin()\n",
    "    return min_index, weather_points[min_index]"
   ]
  },
  {
   "cell_type": "code",
   "execution_count": 13,
   "metadata": {},
   "outputs": [],
   "source": [
    "# Loop through all branches and store the closest weather points - Only need to do this ONCE\n",
    "# Same fixed points sampled throughout\n",
    "num_branches = branches.shape[0]\n",
    "branch_weather_points = {}\n",
    "branch_weather_indices = {}\n",
    "\n",
    "mac = False\n",
    "\n",
    "if mac:\n",
    "    file_path = '/Users/vinee/Library/CloudStorage/OneDrive-MassachusettsInstituteofTechnology/MIT/Semesters/Spring 2022/15.S08/Project/weather_data_Jan2016.pkl'\n",
    "else:\n",
    "    file_path = \"C:\\\\Users\\\\vinee\\\\OneDrive - Massachusetts Institute of Technology\\\\MIT\\\\Semesters\\\\Spring 2022\\\\15.S08\\\\Project\\\\weather_data_Jan2016.pkl\"\n",
    "\n",
    "with open(file_path, 'rb') as file:\n",
    "        x_orig_all = pickle.load(file)\n",
    "        y_orig_all = pickle.load(file)\n",
    "\n",
    "# Need to convert weather (x,y) coordinates from Lambert to utm projection\n",
    "weather_points = merge(x_orig_all[1],y_orig_all[1])"
   ]
  },
  {
   "cell_type": "code",
   "execution_count": 14,
   "metadata": {},
   "outputs": [],
   "source": [
    "d = 1000 # units in km?\n",
    "\n",
    "for i in range(num_branches):\n",
    "    \n",
    "    branch_sample_points = sample_points(branches.iloc[i].fromX,branches.iloc[i].fromY,branches.iloc[i].toX,branches.iloc[i].toY,d)\n",
    "    branch_weather_indices[i] = [closest_point(pt,weather_points)[0] for pt in branch_sample_points] \n",
    "    branch_weather_points[i] = [closest_point(pt,weather_points)[1] for pt in branch_sample_points]"
   ]
  },
  {
   "cell_type": "code",
   "execution_count": 15,
   "metadata": {},
   "outputs": [
    {
     "data": {
      "text/plain": "3206"
     },
     "execution_count": 15,
     "metadata": {},
     "output_type": "execute_result"
    }
   ],
   "source": [
    "len(branch_weather_points.keys())"
   ]
  },
  {
   "cell_type": "code",
   "execution_count": null,
   "metadata": {},
   "outputs": [],
   "source": [
    "# Loop through all hours\n",
    "# Load weather data\n",
    "months = ['Jan','Feb','Mar','Apr','May','Jun','Jul','Aug','Sep','Oct','Nov','Dec']\n",
    "days_per_month = [31,29,31,30,31,30,31,31,30,31,30,31]\n",
    "hours_per_month = days_per_month * 60 # h indexing\n",
    "total_hours = sum(hours_per_month)\n",
    "\n",
    "str1 = \"C:\\\\Users\\\\vinee\\\\OneDrive - Massachusetts Institute of Technology\\\\MIT\\\\Semesters\\\\Spring 2022\\\\15.S08\\\\Project\\\\weather_data_\"\n",
    "str2 = \"2016.pkl\"\n",
    "\n",
    "dlr_values = np.zeros(num_branches,total_hours)\n",
    "\n",
    "for i in range(len(months)):\n",
    "    file_name = str1 + months[i] + str2\n",
    "\n",
    "    with open(file_name, 'wb') as file:\n",
    "            x_orig_all = pickle.load(file)\n",
    "            y_orig_all = pickle.load(file)\n",
    "            temp_all = pickle.load(file)\n",
    "            u_all = pickle.load(file)\n",
    "            v_all = pickle.load(file)\n",
    "            times = pickle.load(file)\n",
    "\n",
    "    weather_points = merge(x_orig_all,y_orig_all)\n",
    "\n",
    "    d = 100 # units in km?\n",
    "\n",
    "    for i in range(num_branches):\n",
    "        branch_sample_points = sample_points(branches.fromX,branches.fromY,branches.toX,branches.toY,d)\n",
    "        weather_indices = [closest_point(pt,weather_points)[0] for pt in branch_sample_points] \n",
    "        weather_points = [closest_point(pt,weather_points)[1] for pt in branch_sample_points] \n",
    "        u = u_all"
   ]
  }
 ],
 "metadata": {
  "kernelspec": {
   "display_name": "Python 3",
   "language": "python",
   "name": "python3"
  },
  "language_info": {
   "codemirror_mode": {
    "name": "ipython",
    "version": 3
   },
   "file_extension": ".py",
   "mimetype": "text/x-python",
   "name": "python",
   "nbconvert_exporter": "python",
   "pygments_lexer": "ipython3",
   "version": "3.8.8"
  }
 },
 "nbformat": 4,
 "nbformat_minor": 4
}