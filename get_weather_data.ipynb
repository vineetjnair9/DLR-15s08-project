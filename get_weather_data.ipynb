{
  "cells": [
    {
      "cell_type": "code",
      "execution_count": 161,
      "metadata": {
        "collapsed": false
      },
      "outputs": [],
      "source": [
        "from datetime import datetime\n",
        "import cartopy.crs as ccrs\n",
        "import cartopy.feature as cfeature\n",
        "import matplotlib.pyplot as plt\n",
        "from metpy.units import units\n",
        "from netCDF4 import num2date\n",
        "import numpy as np\n",
        "import scipy.ndimage as ndimage\n",
        "from siphon.ncss import NCSS\n",
        "from pyproj import Proj, transform\n",
        "import utm\n",
        "from warnings import filterwarnings\n",
        "from scipy.interpolate import griddata\n",
        "from pyproj import Transformer\n",
        "import pandas as pd"
      ]
    },
    {
      "cell_type": "code",
      "execution_count": 162,
      "metadata": {
        "collapsed": false
      },
      "outputs": [],
      "source": [
        "# Helper function for finding proper time variable\n",
        "def find_time_var(var, time_basename='time'):\n",
        "    for coord_name in var.coordinates.split():\n",
        "        if coord_name.startswith(time_basename):\n",
        "            return coord_name\n",
        "    raise ValueError('No time variable found for ' + var.name)"
      ]
    },
    {
      "cell_type": "code",
      "execution_count": 163,
      "metadata": {},
      "outputs": [],
      "source": [
        "times = pd.date_range(start='1/1/2016', end='1/1/2017',freq='H')"
      ]
    },
    {
      "cell_type": "code",
      "execution_count": 164,
      "metadata": {
        "collapsed": false
      },
      "outputs": [],
      "source": [
        "base_url = 'https://www.ncei.noaa.gov/thredds/ncss/model-rap130anl-old/'\n",
        "\n",
        "# dt = datetime(2016, 1, 1, 12) # Y, M, D, H\n",
        "ncss = NCSS('{}{dt:%Y%m}/{dt:%Y%m%d}/rap_130_{dt:%Y%m%d}'\n",
        "            '_{dt:%H}00_000.grb2'.format(base_url, dt=dt))\n",
        "\n",
        "# Create lat/lon box for location you want to get data for\n",
        "query = ncss.query().time(dt)\n",
        "query.lonlat_box(north=36.5, south=25.8, east=-93.5, west=-106.65)\n",
        "query.accept('netcdf')\n",
        "\n",
        "# Request data for model \"surface\" data\n",
        "query.variables('Temperature_height_above_ground',\n",
        "                'u-component_of_wind_height_above_ground',\n",
        "                'v-component_of_wind_height_above_ground')\n",
        "data = ncss.get_data(query)"
      ]
    },
    {
      "cell_type": "markdown",
      "metadata": {},
      "source": [
        "The variables come from different levels and may have different data array shapes.\n",
        "\n",
        "80m Temp: Temperature_height_above_ground (time, level, lat, lon)\n",
        "80m Wind: u/v-component_of_wind_height_above_ground (time, level, lat, lon)\n",
        "\n",
        "Height above ground Temp from RAP has 2 levelS (2m, 80m)\n",
        "Height above ground Wind from RAP has 2 levels (10m, 80m)"
      ]
    },
    {
      "cell_type": "code",
      "execution_count": 165,
      "metadata": {
        "collapsed": false
      },
      "outputs": [],
      "source": [
        "filterwarnings(\"ignore\", category=DeprecationWarning)  \n",
        "\n",
        "# Pull out variables you want to use\n",
        "temp = units.K * data.variables['Temperature_height_above_ground'][:].squeeze()\n",
        "lev_80m_temp = np.where(data.variables['height_above_ground1'][:] == 80)[0][0]\n",
        "temp_80m = temp[lev_80m_temp]\n",
        "u_wind = units('m/s') * data.variables['u-component_of_wind_height_above_ground'][:].squeeze()\n",
        "v_wind = units('m/s') * data.variables['v-component_of_wind_height_above_ground'][:].squeeze()\n",
        "x = data.variables['x'][:].squeeze()\n",
        "y = data.variables['y'][:].squeeze()\n",
        "time_var = data.variables[find_time_var(data.variables['Temperature_height_above_ground'])]\n",
        "\n",
        "# Convert number of hours since the reference time into an actual date\n",
        "time = num2date(time_var[:].squeeze(), time_var.units)\n",
        "\n",
        "lev_80m_wind = np.where(data.variables['height_above_ground4'][:] == 80)[0][0]\n",
        "u_wind_80m = u_wind[lev_80m_wind]\n",
        "v_wind_80m = v_wind[lev_80m_wind]\n",
        "\n",
        "# Convert masked arrays to regular numpy arrays\n",
        "x = x.compressed()\n",
        "y = y.compressed()\n",
        "\n",
        "# Combine 1D x and y coordinates into a 2D grid of locations\n",
        "x_2d, y_2d = np.meshgrid(x, y,indexing='ij')\n",
        "\n",
        "# Get subset of valid points for which we have data\n",
        "x_valid_temp = x_2d[~temp_80m.mask].ravel()\n",
        "x_valid_u = x_2d[~u_wind_80m.mask].ravel()\n",
        "x_valid_v = x_2d[~v_wind_80m.mask].ravel()\n",
        "\n",
        "y_valid_temp = y_2d[~temp_80m.mask].ravel()\n",
        "y_valid_u = y_2d[~u_wind_80m.mask].ravel()\n",
        "y_valid_v = y_2d[~v_wind_80m.mask].ravel()\n",
        "\n",
        "temp_80m_valid = temp_80m[~temp_80m.mask].ravel()\n",
        "u_wind_valid = u_wind_80m[~u_wind_80m.mask].ravel()\n",
        "v_wind_valid = v_wind_80m[~v_wind_80m.mask].ravel()\n",
        "\n",
        "points_temp = np.transpose(np.vstack((x_valid_temp,y_valid_temp)))\n",
        "points_u = np.transpose(np.vstack((x_valid_u,y_valid_u)))\n",
        "points_v = np.transpose(np.vstack((x_valid_v,y_valid_v)))"
      ]
    },
    {
      "cell_type": "code",
      "execution_count": 166,
      "metadata": {},
      "outputs": [],
      "source": [
        "# Convert masked weather arrays to numpy arrays by interpolating to fill missing data points\n",
        "# interpolation methods - nearest, linear, cubic\n",
        "temp_80m_interp = griddata(points_temp, temp_80m_valid, (x_2d,y_2d), method='linear')\n",
        "u_80m_interp = griddata(points_u, u_wind_valid, (x_2d,y_2d), method='linear')\n",
        "v_80m_interp = griddata(points_v, v_wind_valid, (x_2d,y_2d), method='linear')"
      ]
    },
    {
      "cell_type": "code",
      "execution_count": 167,
      "metadata": {},
      "outputs": [],
      "source": [
        "# Convert x and y from lambert conformal conic projection to lat-lon\n",
        "x_2d_array = x_2d.ravel()\n",
        "y_2d_array = y_2d.ravel()\n",
        "\n",
        "transformer = Transformer.from_crs('epsg:2154', 'epsg:4326')\n",
        "lat,lon = transformer.transform(x_2d_array,y_2d_array)\n",
        "\n",
        "# Convert lat-lon to utm projection\n",
        "result = utm.from_latlon(lat,lon)\n",
        "x, y = result[0], result[1]"
      ]
    }
  ],
  "metadata": {
    "kernelspec": {
      "display_name": "Python 3",
      "language": "python",
      "name": "python3"
    },
    "language_info": {
      "codemirror_mode": {
        "name": "ipython",
        "version": 3
      },
      "file_extension": ".py",
      "mimetype": "text/x-python",
      "name": "python",
      "nbconvert_exporter": "python",
      "pygments_lexer": "ipython3",
      "version": "3.8.8"
    }
  },
  "nbformat": 4,
  "nbformat_minor": 0
}
