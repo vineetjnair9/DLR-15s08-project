{
  "cells": [
    {
      "cell_type": "code",
      "execution_count": 24,
      "metadata": {
        "collapsed": false
      },
      "outputs": [],
      "source": [
        "from datetime import datetime\n",
        "\n",
        "import cartopy.crs as ccrs\n",
        "import cartopy.feature as cfeature\n",
        "import matplotlib.pyplot as plt\n",
        "from metpy.units import units\n",
        "from netCDF4 import num2date\n",
        "import numpy as np\n",
        "import scipy.ndimage as ndimage\n",
        "from siphon.ncss import NCSS\n",
        "from pyproj import Proj, transform\n",
        "import utm\n",
        "from warnings import filterwarnings\n",
        "from scipy.interpolate import griddata"
      ]
    },
    {
      "cell_type": "code",
      "execution_count": 2,
      "metadata": {
        "collapsed": false
      },
      "outputs": [],
      "source": [
        "# Helper function for finding proper time variable\n",
        "def find_time_var(var, time_basename='time'):\n",
        "    for coord_name in var.coordinates.split():\n",
        "        if coord_name.startswith(time_basename):\n",
        "            return coord_name\n",
        "    raise ValueError('No time variable found for ' + var.name)"
      ]
    },
    {
      "cell_type": "code",
      "execution_count": 3,
      "metadata": {
        "collapsed": false
      },
      "outputs": [],
      "source": [
        "base_url = 'https://www.ncei.noaa.gov/thredds/ncss/model-rap130anl-old/'\n",
        "dt = datetime(2016, 1, 1, 12)\n",
        "ncss = NCSS('{}{dt:%Y%m}/{dt:%Y%m%d}/rap_130_{dt:%Y%m%d}'\n",
        "            '_{dt:%H}00_000.grb2'.format(base_url, dt=dt))\n",
        "\n",
        "# Create lat/lon box for location you want to get data for\n",
        "query = ncss.query().time(dt)\n",
        "query.lonlat_box(north=36.5, south=25.8, east=-93.5, west=-106.65)\n",
        "query.accept('netcdf')\n",
        "\n",
        "# Request data for model \"surface\" data\n",
        "query.variables('Temperature_height_above_ground',\n",
        "                'u-component_of_wind_height_above_ground',\n",
        "                'v-component_of_wind_height_above_ground')\n",
        "data = ncss.get_data(query)"
      ]
    },
    {
      "cell_type": "code",
      "execution_count": 4,
      "metadata": {},
      "outputs": [
        {
          "data": {
            "text/plain": [
              "dict_keys(['v-component_of_wind_height_above_ground', 'time', 'height_above_ground4', 'y', 'x', 'LambertConformal_Projection', 'u-component_of_wind_height_above_ground', 'Temperature_height_above_ground', 'height_above_ground1'])"
            ]
          },
          "execution_count": 4,
          "metadata": {},
          "output_type": "execute_result"
        }
      ],
      "source": [
        "data.variables.keys()"
      ]
    },
    {
      "cell_type": "markdown",
      "metadata": {},
      "source": [
        "The variables come from different levels and may have different data array shapes.\n",
        "\n",
        "80m Temp: Temperature_height_above_ground (time, level, lat, lon)\n",
        "80m Wind: u/v-component_of_wind_height_above_ground (time, level, lat, lon)\n",
        "\n",
        "Height above ground Temp from RAP has 2 levelS (2m, 80m)\n",
        "Height above ground Wind from RAP has 2 levels (10m, 80m)"
      ]
    },
    {
      "cell_type": "code",
      "execution_count": 120,
      "metadata": {
        "collapsed": false
      },
      "outputs": [],
      "source": [
        "filterwarnings(\"ignore\", category=DeprecationWarning) \n",
        "\n",
        "# Pull out variables you want to use\n",
        "temp = units.K * data.variables['Temperature_height_above_ground'][:].squeeze()\n",
        "lev_80m_temp = np.where(data.variables['height_above_ground1'][:] == 80)[0][0]\n",
        "temp_80m = temp[lev_80m_temp]\n",
        "u_wind = units('m/s') * data.variables['u-component_of_wind_height_above_ground'][:].squeeze()\n",
        "v_wind = units('m/s') * data.variables['v-component_of_wind_height_above_ground'][:].squeeze()\n",
        "x = data.variables['x'][:].squeeze()\n",
        "y = data.variables['y'][:].squeeze()\n",
        "time_var = data.variables[find_time_var(data.variables['Temperature_height_above_ground'])]\n",
        "\n",
        "# Convert number of hours since the reference time into an actual date\n",
        "time = num2date(time_var[:].squeeze(), time_var.units)\n",
        "\n",
        "lev_80m_wind = np.where(data.variables['height_above_ground4'][:] == 80)[0][0]\n",
        "u_wind_80m = u_wind[lev_80m_wind]\n",
        "v_wind_80m = v_wind[lev_80m_wind]\n",
        "\n",
        "# Convert masked arrays to regular numpy arrays\n",
        "x = x.compressed()\n",
        "y = y.compressed()\n",
        "\n",
        "# Combine 1D x and y coordinates into a 2D grid of locations\n",
        "# x_2d, y_2d = np.meshgrid(x, y)\n",
        "x_2d, y_2d = np.meshgrid(x, y, sparse=True)\n",
        "# x_2d, y_2d = np.mgrid[x, y]\n",
        "\n",
        "# Get subset of valid points for which we have data\n",
        "x_valid_temp = x_2d[~temp_80m.mask].ravel()\n",
        "x_valid_u = x_2d[~u_wind_80m.mask].ravel()\n",
        "x_valid_v = x_2d[~v_wind_80m.mask].ravel()\n",
        "\n",
        "y_valid_temp = y_2d[~temp_80m.mask].squeeze()\n",
        "y_valid_u = y_2d[~u_wind_80m.mask].squeeze()\n",
        "y_valid_v = y_2d[~v_wind_80m.mask].squeeze()\n",
        "\n",
        "# Get 2D grid array from coordinate vectors\n",
        "# x_valid_temp, y_valid_temp = np.meshgrid(x_valid_temp,y_valid_temp)\n",
        "# x_valid_u, y_valid_u = np.meshgrid(x_valid_u,y_valid_u)\n",
        "# x_valid_v, y_valid_v = np.meshgrid(x_valid_v,y_valid_v)\n",
        "\n",
        "temp_80m_valid = temp_80m[~temp_80m.mask].squeeze()\n",
        "u_wind_valid = u_wind_80m[~u_wind_80m.mask].squeeze()\n",
        "v_wind_valid = v_wind_80m[~v_wind_80m.mask].squeeze()\n",
        "\n",
        "# Transpose data to get to (x,y) order\n",
        "temp_80m_valid = np.transpose(temp_80m_valid)\n",
        "u_wind_valid = np.transpose(u_wind_valid)\n",
        "v_wind_valid = np.transpose(v_wind_valid)"
      ]
    },
    {
      "cell_type": "code",
      "execution_count": 118,
      "metadata": {},
      "outputs": [
        {
          "data": {
            "text/plain": [
              "(98,)"
            ]
          },
          "execution_count": 118,
          "metadata": {},
          "output_type": "execute_result"
        }
      ],
      "source": [
        "x_valid_temp.shape"
      ]
    },
    {
      "cell_type": "code",
      "execution_count": 121,
      "metadata": {},
      "outputs": [
        {
          "ename": "ValueError",
          "evalue": "shape mismatch: objects cannot be broadcast to a single shape",
          "output_type": "error",
          "traceback": [
            "\u001b[1;31m---------------------------------------------------------------------------\u001b[0m",
            "\u001b[1;31mValueError\u001b[0m                                Traceback (most recent call last)",
            "\u001b[1;32m~\\AppData\\Local\\Temp/ipykernel_17916/2625161053.py\u001b[0m in \u001b[0;36m<module>\u001b[1;34m\u001b[0m\n\u001b[0;32m      1\u001b[0m \u001b[1;31m# Convert masked weather arrays to numpy arrays by interpolating to fill missing data points\u001b[0m\u001b[1;33m\u001b[0m\u001b[1;33m\u001b[0m\u001b[1;33m\u001b[0m\u001b[0m\n\u001b[1;32m----> 2\u001b[1;33m \u001b[0mtemp_80m_interp\u001b[0m \u001b[1;33m=\u001b[0m \u001b[0mgriddata\u001b[0m\u001b[1;33m(\u001b[0m\u001b[1;33m(\u001b[0m\u001b[0mx_valid_temp\u001b[0m\u001b[1;33m,\u001b[0m\u001b[0my_valid_temp\u001b[0m\u001b[1;33m)\u001b[0m\u001b[1;33m,\u001b[0m \u001b[0mtemp_80m_valid\u001b[0m\u001b[1;33m,\u001b[0m \u001b[1;33m(\u001b[0m\u001b[0mx_2d\u001b[0m\u001b[1;33m,\u001b[0m\u001b[0my_2d\u001b[0m\u001b[1;33m)\u001b[0m\u001b[1;33m,\u001b[0m \u001b[0mmethod\u001b[0m\u001b[1;33m=\u001b[0m\u001b[1;34m'nearest'\u001b[0m\u001b[1;33m)\u001b[0m\u001b[1;33m\u001b[0m\u001b[1;33m\u001b[0m\u001b[0m\n\u001b[0m\u001b[0;32m      3\u001b[0m \u001b[0mu_80m_interp\u001b[0m \u001b[1;33m=\u001b[0m \u001b[0mgriddata\u001b[0m\u001b[1;33m(\u001b[0m\u001b[1;33m(\u001b[0m\u001b[0mx_valid_u\u001b[0m\u001b[1;33m,\u001b[0m\u001b[0my_valid_u\u001b[0m\u001b[1;33m)\u001b[0m\u001b[1;33m,\u001b[0m \u001b[0mu_wind_valid\u001b[0m\u001b[1;33m,\u001b[0m \u001b[1;33m(\u001b[0m\u001b[0mx_2d\u001b[0m\u001b[1;33m,\u001b[0m\u001b[0my_2d\u001b[0m\u001b[1;33m)\u001b[0m\u001b[1;33m,\u001b[0m \u001b[0mmethod\u001b[0m\u001b[1;33m=\u001b[0m\u001b[1;34m'nearst'\u001b[0m\u001b[1;33m)\u001b[0m\u001b[1;33m\u001b[0m\u001b[1;33m\u001b[0m\u001b[0m\n\u001b[0;32m      4\u001b[0m \u001b[0mv_80m_interp\u001b[0m \u001b[1;33m=\u001b[0m \u001b[0mgriddata\u001b[0m\u001b[1;33m(\u001b[0m\u001b[1;33m(\u001b[0m\u001b[0mx_valid_u\u001b[0m\u001b[1;33m,\u001b[0m\u001b[0my_valid_u\u001b[0m\u001b[1;33m)\u001b[0m\u001b[1;33m,\u001b[0m \u001b[0mv_wind_valid\u001b[0m\u001b[1;33m,\u001b[0m \u001b[1;33m(\u001b[0m\u001b[0mx_2d\u001b[0m\u001b[1;33m,\u001b[0m\u001b[0my_2d\u001b[0m\u001b[1;33m)\u001b[0m\u001b[1;33m,\u001b[0m \u001b[0mmethod\u001b[0m\u001b[1;33m=\u001b[0m\u001b[1;34m'nearest'\u001b[0m\u001b[1;33m)\u001b[0m\u001b[1;33m\u001b[0m\u001b[1;33m\u001b[0m\u001b[0m\n",
            "\u001b[1;32m~\\anaconda3\\envs\\vineet_python_3-8-8\\lib\\site-packages\\scipy\\interpolate\\ndgriddata.py\u001b[0m in \u001b[0;36mgriddata\u001b[1;34m(points, values, xi, method, fill_value, rescale)\u001b[0m\n\u001b[0;32m    231\u001b[0m     \"\"\"\n\u001b[0;32m    232\u001b[0m \u001b[1;33m\u001b[0m\u001b[0m\n\u001b[1;32m--> 233\u001b[1;33m     \u001b[0mpoints\u001b[0m \u001b[1;33m=\u001b[0m \u001b[0m_ndim_coords_from_arrays\u001b[0m\u001b[1;33m(\u001b[0m\u001b[0mpoints\u001b[0m\u001b[1;33m)\u001b[0m\u001b[1;33m\u001b[0m\u001b[1;33m\u001b[0m\u001b[0m\n\u001b[0m\u001b[0;32m    234\u001b[0m \u001b[1;33m\u001b[0m\u001b[0m\n\u001b[0;32m    235\u001b[0m     \u001b[1;32mif\u001b[0m \u001b[0mpoints\u001b[0m\u001b[1;33m.\u001b[0m\u001b[0mndim\u001b[0m \u001b[1;33m<\u001b[0m \u001b[1;36m2\u001b[0m\u001b[1;33m:\u001b[0m\u001b[1;33m\u001b[0m\u001b[1;33m\u001b[0m\u001b[0m\n",
            "\u001b[1;32minterpnd.pyx\u001b[0m in \u001b[0;36mscipy.interpolate.interpnd._ndim_coords_from_arrays\u001b[1;34m()\u001b[0m\n",
            "\u001b[1;32minterpnd.pyx\u001b[0m in \u001b[0;36mscipy.interpolate.interpnd._ndim_coords_from_arrays\u001b[1;34m()\u001b[0m\n",
            "\u001b[1;32m<__array_function__ internals>\u001b[0m in \u001b[0;36mbroadcast_arrays\u001b[1;34m(*args, **kwargs)\u001b[0m\n",
            "\u001b[1;32m~\\anaconda3\\envs\\vineet_python_3-8-8\\lib\\site-packages\\numpy\\lib\\stride_tricks.py\u001b[0m in \u001b[0;36mbroadcast_arrays\u001b[1;34m(subok, *args)\u001b[0m\n\u001b[0;32m    536\u001b[0m     \u001b[0margs\u001b[0m \u001b[1;33m=\u001b[0m \u001b[1;33m[\u001b[0m\u001b[0mnp\u001b[0m\u001b[1;33m.\u001b[0m\u001b[0marray\u001b[0m\u001b[1;33m(\u001b[0m\u001b[0m_m\u001b[0m\u001b[1;33m,\u001b[0m \u001b[0mcopy\u001b[0m\u001b[1;33m=\u001b[0m\u001b[1;32mFalse\u001b[0m\u001b[1;33m,\u001b[0m \u001b[0msubok\u001b[0m\u001b[1;33m=\u001b[0m\u001b[0msubok\u001b[0m\u001b[1;33m)\u001b[0m \u001b[1;32mfor\u001b[0m \u001b[0m_m\u001b[0m \u001b[1;32min\u001b[0m \u001b[0margs\u001b[0m\u001b[1;33m]\u001b[0m\u001b[1;33m\u001b[0m\u001b[1;33m\u001b[0m\u001b[0m\n\u001b[0;32m    537\u001b[0m \u001b[1;33m\u001b[0m\u001b[0m\n\u001b[1;32m--> 538\u001b[1;33m     \u001b[0mshape\u001b[0m \u001b[1;33m=\u001b[0m \u001b[0m_broadcast_shape\u001b[0m\u001b[1;33m(\u001b[0m\u001b[1;33m*\u001b[0m\u001b[0margs\u001b[0m\u001b[1;33m)\u001b[0m\u001b[1;33m\u001b[0m\u001b[1;33m\u001b[0m\u001b[0m\n\u001b[0m\u001b[0;32m    539\u001b[0m \u001b[1;33m\u001b[0m\u001b[0m\n\u001b[0;32m    540\u001b[0m     \u001b[1;32mif\u001b[0m \u001b[0mall\u001b[0m\u001b[1;33m(\u001b[0m\u001b[0marray\u001b[0m\u001b[1;33m.\u001b[0m\u001b[0mshape\u001b[0m \u001b[1;33m==\u001b[0m \u001b[0mshape\u001b[0m \u001b[1;32mfor\u001b[0m \u001b[0marray\u001b[0m \u001b[1;32min\u001b[0m \u001b[0margs\u001b[0m\u001b[1;33m)\u001b[0m\u001b[1;33m:\u001b[0m\u001b[1;33m\u001b[0m\u001b[1;33m\u001b[0m\u001b[0m\n",
            "\u001b[1;32m~\\anaconda3\\envs\\vineet_python_3-8-8\\lib\\site-packages\\numpy\\lib\\stride_tricks.py\u001b[0m in \u001b[0;36m_broadcast_shape\u001b[1;34m(*args)\u001b[0m\n\u001b[0;32m    418\u001b[0m     \u001b[1;31m# use the old-iterator because np.nditer does not handle size 0 arrays\u001b[0m\u001b[1;33m\u001b[0m\u001b[1;33m\u001b[0m\u001b[1;33m\u001b[0m\u001b[0m\n\u001b[0;32m    419\u001b[0m     \u001b[1;31m# consistently\u001b[0m\u001b[1;33m\u001b[0m\u001b[1;33m\u001b[0m\u001b[1;33m\u001b[0m\u001b[0m\n\u001b[1;32m--> 420\u001b[1;33m     \u001b[0mb\u001b[0m \u001b[1;33m=\u001b[0m \u001b[0mnp\u001b[0m\u001b[1;33m.\u001b[0m\u001b[0mbroadcast\u001b[0m\u001b[1;33m(\u001b[0m\u001b[1;33m*\u001b[0m\u001b[0margs\u001b[0m\u001b[1;33m[\u001b[0m\u001b[1;33m:\u001b[0m\u001b[1;36m32\u001b[0m\u001b[1;33m]\u001b[0m\u001b[1;33m)\u001b[0m\u001b[1;33m\u001b[0m\u001b[1;33m\u001b[0m\u001b[0m\n\u001b[0m\u001b[0;32m    421\u001b[0m     \u001b[1;31m# unfortunately, it cannot handle 32 or more arguments directly\u001b[0m\u001b[1;33m\u001b[0m\u001b[1;33m\u001b[0m\u001b[1;33m\u001b[0m\u001b[0m\n\u001b[0;32m    422\u001b[0m     \u001b[1;32mfor\u001b[0m \u001b[0mpos\u001b[0m \u001b[1;32min\u001b[0m \u001b[0mrange\u001b[0m\u001b[1;33m(\u001b[0m\u001b[1;36m32\u001b[0m\u001b[1;33m,\u001b[0m \u001b[0mlen\u001b[0m\u001b[1;33m(\u001b[0m\u001b[0margs\u001b[0m\u001b[1;33m)\u001b[0m\u001b[1;33m,\u001b[0m \u001b[1;36m31\u001b[0m\u001b[1;33m)\u001b[0m\u001b[1;33m:\u001b[0m\u001b[1;33m\u001b[0m\u001b[1;33m\u001b[0m\u001b[0m\n",
            "\u001b[1;31mValueError\u001b[0m: shape mismatch: objects cannot be broadcast to a single shape"
          ]
        }
      ],
      "source": [
        "# Convert masked weather arrays to numpy arrays by interpolating to fill missing data points\n",
        "temp_80m_interp = griddata((x_valid_temp,y_valid_temp), temp_80m_valid, (x_2d,y_2d), method='nearest')\n",
        "u_80m_interp = griddata((x_valid_u,y_valid_u), u_wind_valid, (x_2d,y_2d), method='nearst')\n",
        "v_80m_interp = griddata((x_valid_u,y_valid_u), v_wind_valid, (x_2d,y_2d), method='nearest')"
      ]
    },
    {
      "cell_type": "code",
      "execution_count": null,
      "metadata": {},
      "outputs": [],
      "source": [
        "# Convert x and y from lambert conformal conic projection to lat-lon\n",
        "inProj = Proj(init='epsg:2154')\n",
        "outProj = Proj(init='epsg:4326')\n",
        "lat,lon = transform(inProj,outProj,x,y)\n",
        "\n",
        "# Convert lat-lon to utm projection\n",
        "x,y = utm.from_latlon()\n",
        "\n",
        "# Convert masked arrays to regular numpy arrays\n",
        "x = x.compressed()\n",
        "y = y.compressed()\n"
      ]
    },
    {
      "cell_type": "markdown",
      "metadata": {},
      "source": [
        "Begin map creation\n",
        "------------------\n",
        "\n"
      ]
    },
    {
      "cell_type": "code",
      "execution_count": null,
      "metadata": {
        "collapsed": false
      },
      "outputs": [],
      "source": [
        "# Set Projection of Data\n",
        "datacrs = ccrs.PlateCarree()\n",
        "\n",
        "# Set Projection of Plot\n",
        "plotcrs = ccrs.LambertConformal(central_latitude=[30, 60], central_longitude=-100)\n",
        "\n",
        "# Create new figure\n",
        "fig = plt.figure(figsize=(11, 8.5))\n",
        "\n",
        "# Add the map and set the extent\n",
        "ax = plt.subplot(111, projection=plotcrs)\n",
        "plt.title('GFS Analysis MSLP, 2m Temperature (F), Wind Barbs (kt)'\n",
        "          ' {0:%d %B %Y %H:%MZ}'.format(time), fontsize=16)\n",
        "ax.set_extent([235., 290., 20., 55.])\n",
        "\n",
        "# Add state boundaries to plot\n",
        "states_provinces = cfeature.NaturalEarthFeature(category='cultural',\n",
        "                                                name='admin_1_states_provinces_lakes',\n",
        "                                                scale='50m', facecolor='none')\n",
        "ax.add_feature(states_provinces, edgecolor='black', linewidth=1)\n",
        "\n",
        "# Add country borders to plot\n",
        "country_borders = cfeature.NaturalEarthFeature(category='cultural',\n",
        "                                               name='admin_0_countries',\n",
        "                                               scale='50m', facecolor='none')\n",
        "ax.add_feature(country_borders, edgecolor='black', linewidth=1)\n",
        "\n",
        "# Plot MSLP Contours\n",
        "clev_mslp = np.arange(0, 1200, 4)\n",
        "cs = ax.contour(lon_2d, lat_2d, smooth_mslp, clev_mslp, colors='black', linewidths=1.5,\n",
        "                linestyles='solid', transform=datacrs)\n",
        "plt.clabel(cs, fontsize=10, inline=1, inline_spacing=10, fmt='%i',\n",
        "           rightside_up=True, use_clabeltext=True)\n",
        "\n",
        "# Plot 2m Temperature Contours\n",
        "clevtemp = np.arange(-60, 101, 10)\n",
        "cs2 = ax.contour(lon_2d, lat_2d, temp.to(units('degF')), clevtemp,\n",
        "                 colors='tab:red', linewidths=1.25, linestyles='dotted',\n",
        "                 transform=datacrs)\n",
        "plt.clabel(cs2, fontsize=10, inline=1, inline_spacing=10, fmt='%i',\n",
        "           rightside_up=True, use_clabeltext=True)\n",
        "\n",
        "# Plot 10m Wind Barbs\n",
        "ax.barbs(lon_2d, lat_2d, u_wind_10m.magnitude, v_wind_10m.magnitude,\n",
        "         length=6, regrid_shape=20, pivot='middle', transform=datacrs)\n",
        "\n",
        "plt.show()"
      ]
    }
  ],
  "metadata": {
    "kernelspec": {
      "display_name": "Python 3",
      "language": "python",
      "name": "python3"
    },
    "language_info": {
      "codemirror_mode": {
        "name": "ipython",
        "version": 3
      },
      "file_extension": ".py",
      "mimetype": "text/x-python",
      "name": "python",
      "nbconvert_exporter": "python",
      "pygments_lexer": "ipython3",
      "version": "3.8.8"
    }
  },
  "nbformat": 4,
  "nbformat_minor": 0
}
