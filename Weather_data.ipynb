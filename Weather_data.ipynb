{
  "cells": [
    {
      "cell_type": "code",
      "execution_count": 137,
      "metadata": {
        "collapsed": false
      },
      "outputs": [],
      "source": [
        "from datetime import datetime\n",
        "\n",
        "import cartopy.crs as ccrs\n",
        "import cartopy.feature as cfeature\n",
        "import matplotlib.pyplot as plt\n",
        "from metpy.units import units\n",
        "from netCDF4 import num2date\n",
        "import numpy as np\n",
        "import scipy.ndimage as ndimage\n",
        "from siphon.ncss import NCSS\n",
        "from pyproj import Proj, transform\n",
        "import utm\n",
        "from warnings import filterwarnings\n",
        "from scipy.interpolate import griddata"
      ]
    },
    {
      "cell_type": "code",
      "execution_count": 138,
      "metadata": {
        "collapsed": false
      },
      "outputs": [],
      "source": [
        "# Helper function for finding proper time variable\n",
        "def find_time_var(var, time_basename='time'):\n",
        "    for coord_name in var.coordinates.split():\n",
        "        if coord_name.startswith(time_basename):\n",
        "            return coord_name\n",
        "    raise ValueError('No time variable found for ' + var.name)"
      ]
    },
    {
      "cell_type": "code",
      "execution_count": 139,
      "metadata": {
        "collapsed": false
      },
      "outputs": [],
      "source": [
        "base_url = 'https://www.ncei.noaa.gov/thredds/ncss/model-rap130anl-old/'\n",
        "dt = datetime(2016, 1, 1, 12)\n",
        "ncss = NCSS('{}{dt:%Y%m}/{dt:%Y%m%d}/rap_130_{dt:%Y%m%d}'\n",
        "            '_{dt:%H}00_000.grb2'.format(base_url, dt=dt))\n",
        "\n",
        "# Create lat/lon box for location you want to get data for\n",
        "query = ncss.query().time(dt)\n",
        "query.lonlat_box(north=36.5, south=25.8, east=-93.5, west=-106.65)\n",
        "query.accept('netcdf')\n",
        "\n",
        "# Request data for model \"surface\" data\n",
        "query.variables('Temperature_height_above_ground',\n",
        "                'u-component_of_wind_height_above_ground',\n",
        "                'v-component_of_wind_height_above_ground')\n",
        "data = ncss.get_data(query)"
      ]
    },
    {
      "cell_type": "code",
      "execution_count": 140,
      "metadata": {},
      "outputs": [
        {
          "data": {
            "text/plain": [
              "dict_keys(['v-component_of_wind_height_above_ground', 'time', 'height_above_ground4', 'y', 'x', 'LambertConformal_Projection', 'u-component_of_wind_height_above_ground', 'Temperature_height_above_ground', 'height_above_ground1'])"
            ]
          },
          "execution_count": 140,
          "metadata": {},
          "output_type": "execute_result"
        }
      ],
      "source": [
        "data.variables.keys()"
      ]
    },
    {
      "cell_type": "markdown",
      "metadata": {},
      "source": [
        "The variables come from different levels and may have different data array shapes.\n",
        "\n",
        "80m Temp: Temperature_height_above_ground (time, level, lat, lon)\n",
        "80m Wind: u/v-component_of_wind_height_above_ground (time, level, lat, lon)\n",
        "\n",
        "Height above ground Temp from RAP has 2 levelS (2m, 80m)\n",
        "Height above ground Wind from RAP has 2 levels (10m, 80m)"
      ]
    },
    {
      "cell_type": "code",
      "execution_count": 141,
      "metadata": {
        "collapsed": false
      },
      "outputs": [],
      "source": [
        "filterwarnings(\"ignore\", category=DeprecationWarning) \n",
        "\n",
        "# Pull out variables you want to use\n",
        "temp = units.K * data.variables['Temperature_height_above_ground'][:].squeeze()\n",
        "lev_80m_temp = np.where(data.variables['height_above_ground1'][:] == 80)[0][0]\n",
        "temp_80m = temp[lev_80m_temp]\n",
        "u_wind = units('m/s') * data.variables['u-component_of_wind_height_above_ground'][:].squeeze()\n",
        "v_wind = units('m/s') * data.variables['v-component_of_wind_height_above_ground'][:].squeeze()\n",
        "x = data.variables['x'][:].squeeze()\n",
        "y = data.variables['y'][:].squeeze()\n",
        "time_var = data.variables[find_time_var(data.variables['Temperature_height_above_ground'])]\n",
        "\n",
        "# Convert number of hours since the reference time into an actual date\n",
        "time = num2date(time_var[:].squeeze(), time_var.units)\n",
        "\n",
        "lev_80m_wind = np.where(data.variables['height_above_ground4'][:] == 80)[0][0]\n",
        "u_wind_80m = u_wind[lev_80m_wind]\n",
        "v_wind_80m = v_wind[lev_80m_wind]\n",
        "\n",
        "# Convert masked arrays to regular numpy arrays\n",
        "x = x.compressed()\n",
        "y = y.compressed()\n",
        "\n",
        "# Combine 1D x and y coordinates into a 2D grid of locations\n",
        "x_2d, y_2d = np.meshgrid(x, y,indexing='ij')\n",
        "\n",
        "# Get subset of valid points for which we have data\n",
        "x_valid_temp = x_2d[~temp_80m.mask].ravel()\n",
        "x_valid_u = x_2d[~u_wind_80m.mask].ravel()\n",
        "x_valid_v = x_2d[~v_wind_80m.mask].ravel()\n",
        "\n",
        "y_valid_temp = y_2d[~temp_80m.mask].ravel()\n",
        "y_valid_u = y_2d[~u_wind_80m.mask].ravel()\n",
        "y_valid_v = y_2d[~v_wind_80m.mask].ravel()\n",
        "\n",
        "temp_80m_valid = temp_80m[~temp_80m.mask].ravel()\n",
        "u_wind_valid = u_wind_80m[~u_wind_80m.mask].ravel()\n",
        "v_wind_valid = v_wind_80m[~v_wind_80m.mask].ravel()\n",
        "\n",
        "points_temp = np.transpose(np.vstack((x_valid_temp,y_valid_temp)))\n",
        "points_u = np.transpose(np.vstack((x_valid_u,y_valid_u)))\n",
        "points_v = np.transpose(np.vstack((x_valid_v,y_valid_v)))"
      ]
    },
    {
      "cell_type": "code",
      "execution_count": 142,
      "metadata": {},
      "outputs": [],
      "source": [
        "# Convert masked weather arrays to numpy arrays by interpolating to fill missing data points\n",
        "# interpolation methods - nearest, linear, cubic\n",
        "temp_80m_interp = griddata(points_temp, temp_80m_valid, (x_2d,y_2d), method='linear')\n",
        "u_80m_interp = griddata(points_u, u_wind_valid, (x_2d,y_2d), method='linear')\n",
        "v_80m_interp = griddata(points_v, v_wind_valid, (x_2d,y_2d), method='linear')"
      ]
    },
    {
      "cell_type": "code",
      "execution_count": 146,
      "metadata": {},
      "outputs": [],
      "source": [
        "x_2d_array = x_2d.ravel()\n",
        "y_2d_array = y_2d.ravel()"
      ]
    },
    {
      "cell_type": "code",
      "execution_count": 136,
      "metadata": {},
      "outputs": [
        {
          "name": "stderr",
          "output_type": "stream",
          "text": [
            "C:\\Users\\vinee\\anaconda3\\envs\\vineet_python_3-8-8\\lib\\site-packages\\pyproj\\crs\\crs.py:131: FutureWarning: '+init=<authority>:<code>' syntax is deprecated. '<authority>:<code>' is the preferred initialization method. When making the change, be mindful of axis order changes: https://pyproj4.github.io/pyproj/stable/gotchas.html#axis-order-changes-in-proj-6\n",
            "  in_crs_string = _prepare_from_proj_string(in_crs_string)\n",
            "C:\\Users\\vinee\\anaconda3\\envs\\vineet_python_3-8-8\\lib\\site-packages\\pyproj\\crs\\crs.py:131: FutureWarning: '+init=<authority>:<code>' syntax is deprecated. '<authority>:<code>' is the preferred initialization method. When making the change, be mindful of axis order changes: https://pyproj4.github.io/pyproj/stable/gotchas.html#axis-order-changes-in-proj-6\n",
            "  in_crs_string = _prepare_from_proj_string(in_crs_string)\n"
          ]
        },
        {
          "ename": "ProjError",
          "evalue": "x, y, z, and time must be same size if included.",
          "output_type": "error",
          "traceback": [
            "\u001b[1;31m---------------------------------------------------------------------------\u001b[0m",
            "\u001b[1;31mProjError\u001b[0m                                 Traceback (most recent call last)",
            "\u001b[1;32m~\\AppData\\Local\\Temp/ipykernel_17916/297142236.py\u001b[0m in \u001b[0;36m<module>\u001b[1;34m\u001b[0m\n\u001b[0;32m      2\u001b[0m \u001b[0minProj\u001b[0m \u001b[1;33m=\u001b[0m \u001b[0mProj\u001b[0m\u001b[1;33m(\u001b[0m\u001b[0minit\u001b[0m\u001b[1;33m=\u001b[0m\u001b[1;34m'epsg:2154'\u001b[0m\u001b[1;33m)\u001b[0m\u001b[1;33m\u001b[0m\u001b[1;33m\u001b[0m\u001b[0m\n\u001b[0;32m      3\u001b[0m \u001b[0moutProj\u001b[0m \u001b[1;33m=\u001b[0m \u001b[0mProj\u001b[0m\u001b[1;33m(\u001b[0m\u001b[0minit\u001b[0m\u001b[1;33m=\u001b[0m\u001b[1;34m'epsg:4326'\u001b[0m\u001b[1;33m)\u001b[0m\u001b[1;33m\u001b[0m\u001b[1;33m\u001b[0m\u001b[0m\n\u001b[1;32m----> 4\u001b[1;33m \u001b[0mlat\u001b[0m\u001b[1;33m,\u001b[0m\u001b[0mlon\u001b[0m \u001b[1;33m=\u001b[0m \u001b[0mtransform\u001b[0m\u001b[1;33m(\u001b[0m\u001b[0minProj\u001b[0m\u001b[1;33m,\u001b[0m\u001b[0moutProj\u001b[0m\u001b[1;33m,\u001b[0m\u001b[0mx\u001b[0m\u001b[1;33m,\u001b[0m\u001b[0my\u001b[0m\u001b[1;33m)\u001b[0m\u001b[1;33m\u001b[0m\u001b[1;33m\u001b[0m\u001b[0m\n\u001b[0m\u001b[0;32m      5\u001b[0m \u001b[1;33m\u001b[0m\u001b[0m\n\u001b[0;32m      6\u001b[0m \u001b[1;31m# Convert lat-lon to utm projection\u001b[0m\u001b[1;33m\u001b[0m\u001b[1;33m\u001b[0m\u001b[1;33m\u001b[0m\u001b[0m\n",
            "\u001b[1;32m~\\anaconda3\\envs\\vineet_python_3-8-8\\lib\\site-packages\\pyproj\\transformer.py\u001b[0m in \u001b[0;36mtransform\u001b[1;34m(p1, p2, x, y, z, tt, radians, errcheck, skip_equivalent, always_xy)\u001b[0m\n\u001b[0;32m   1192\u001b[0m         \u001b[0mstacklevel\u001b[0m\u001b[1;33m=\u001b[0m\u001b[1;36m2\u001b[0m\u001b[1;33m,\u001b[0m\u001b[1;33m\u001b[0m\u001b[1;33m\u001b[0m\u001b[0m\n\u001b[0;32m   1193\u001b[0m     )\n\u001b[1;32m-> 1194\u001b[1;33m     return Transformer.from_proj(\n\u001b[0m\u001b[0;32m   1195\u001b[0m         \u001b[0mp1\u001b[0m\u001b[1;33m,\u001b[0m \u001b[0mp2\u001b[0m\u001b[1;33m,\u001b[0m \u001b[0mskip_equivalent\u001b[0m\u001b[1;33m=\u001b[0m\u001b[0mskip_equivalent\u001b[0m\u001b[1;33m,\u001b[0m \u001b[0malways_xy\u001b[0m\u001b[1;33m=\u001b[0m\u001b[0malways_xy\u001b[0m\u001b[1;33m\u001b[0m\u001b[1;33m\u001b[0m\u001b[0m\n\u001b[0;32m   1196\u001b[0m     ).transform(xx=x, yy=y, zz=z, tt=tt, radians=radians, errcheck=errcheck)\n",
            "\u001b[1;32m~\\anaconda3\\envs\\vineet_python_3-8-8\\lib\\site-packages\\pyproj\\transformer.py\u001b[0m in \u001b[0;36mtransform\u001b[1;34m(self, xx, yy, zz, tt, radians, errcheck, direction, inplace)\u001b[0m\n\u001b[0;32m    746\u001b[0m             \u001b[0mintime\u001b[0m \u001b[1;33m=\u001b[0m \u001b[1;32mNone\u001b[0m\u001b[1;33m\u001b[0m\u001b[1;33m\u001b[0m\u001b[0m\n\u001b[0;32m    747\u001b[0m         \u001b[1;31m# call pj_transform.  inx,iny,inz buffers modified in place.\u001b[0m\u001b[1;33m\u001b[0m\u001b[1;33m\u001b[0m\u001b[1;33m\u001b[0m\u001b[0m\n\u001b[1;32m--> 748\u001b[1;33m         self._transformer._transform(\n\u001b[0m\u001b[0;32m    749\u001b[0m             \u001b[0minx\u001b[0m\u001b[1;33m,\u001b[0m\u001b[1;33m\u001b[0m\u001b[1;33m\u001b[0m\u001b[0m\n\u001b[0;32m    750\u001b[0m             \u001b[0miny\u001b[0m\u001b[1;33m,\u001b[0m\u001b[1;33m\u001b[0m\u001b[1;33m\u001b[0m\u001b[0m\n",
            "\u001b[1;32mpyproj\\_transformer.pyx\u001b[0m in \u001b[0;36mpyproj._transformer._Transformer._transform\u001b[1;34m()\u001b[0m\n",
            "\u001b[1;31mProjError\u001b[0m: x, y, z, and time must be same size if included."
          ]
        }
      ],
      "source": [
        "# Convert x and y from lambert conformal conic projection to lat-lon\n",
        "inProj = Proj(init='epsg:2154')\n",
        "outProj = Proj(init='epsg:4326')\n",
        "lat,lon = transform(inProj,outProj,x_2d_array,y_2d_array)\n",
        "\n",
        "# Convert lat-lon to utm projection\n",
        "result = utm.from_latlon(lat,lon)\n",
        "x, y = result[0], result[1]"
      ]
    },
    {
      "cell_type": "code",
      "execution_count": null,
      "metadata": {
        "collapsed": false
      },
      "outputs": [],
      "source": [
        "# Set Projection of Data\n",
        "datacrs = ccrs.PlateCarree()\n",
        "\n",
        "# Set Projection of Plot\n",
        "plotcrs = ccrs.LambertConformal(central_latitude=[30, 60], central_longitude=-100)\n",
        "\n",
        "# Create new figure\n",
        "fig = plt.figure(figsize=(11, 8.5))\n",
        "\n",
        "# Add the map and set the extent\n",
        "ax = plt.subplot(111, projection=plotcrs)\n",
        "plt.title('GFS Analysis MSLP, 2m Temperature (F), Wind Barbs (kt)'\n",
        "          ' {0:%d %B %Y %H:%MZ}'.format(time), fontsize=16)\n",
        "ax.set_extent([235., 290., 20., 55.])\n",
        "\n",
        "# Add state boundaries to plot\n",
        "states_provinces = cfeature.NaturalEarthFeature(category='cultural',\n",
        "                                                name='admin_1_states_provinces_lakes',\n",
        "                                                scale='50m', facecolor='none')\n",
        "ax.add_feature(states_provinces, edgecolor='black', linewidth=1)\n",
        "\n",
        "# Add country borders to plot\n",
        "country_borders = cfeature.NaturalEarthFeature(category='cultural',\n",
        "                                               name='admin_0_countries',\n",
        "                                               scale='50m', facecolor='none')\n",
        "ax.add_feature(country_borders, edgecolor='black', linewidth=1)\n",
        "\n",
        "# Plot MSLP Contours\n",
        "clev_mslp = np.arange(0, 1200, 4)\n",
        "cs = ax.contour(lon_2d, lat_2d, smooth_mslp, clev_mslp, colors='black', linewidths=1.5,\n",
        "                linestyles='solid', transform=datacrs)\n",
        "plt.clabel(cs, fontsize=10, inline=1, inline_spacing=10, fmt='%i',\n",
        "           rightside_up=True, use_clabeltext=True)\n",
        "\n",
        "# Plot 2m Temperature Contours\n",
        "clevtemp = np.arange(-60, 101, 10)\n",
        "cs2 = ax.contour(lon_2d, lat_2d, temp.to(units('degF')), clevtemp,\n",
        "                 colors='tab:red', linewidths=1.25, linestyles='dotted',\n",
        "                 transform=datacrs)\n",
        "plt.clabel(cs2, fontsize=10, inline=1, inline_spacing=10, fmt='%i',\n",
        "           rightside_up=True, use_clabeltext=True)\n",
        "\n",
        "# Plot 10m Wind Barbs\n",
        "ax.barbs(lon_2d, lat_2d, u_wind_10m.magnitude, v_wind_10m.magnitude,\n",
        "         length=6, regrid_shape=20, pivot='middle', transform=datacrs)\n",
        "\n",
        "plt.show()"
      ]
    }
  ],
  "metadata": {
    "kernelspec": {
      "display_name": "Python 3",
      "language": "python",
      "name": "python3"
    },
    "language_info": {
      "codemirror_mode": {
        "name": "ipython",
        "version": 3
      },
      "file_extension": ".py",
      "mimetype": "text/x-python",
      "name": "python",
      "nbconvert_exporter": "python",
      "pygments_lexer": "ipython3",
      "version": "3.8.8"
    }
  },
  "nbformat": 4,
  "nbformat_minor": 0
}
